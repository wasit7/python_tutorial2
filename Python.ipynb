{
 "cells": [
  {
   "cell_type": "code",
   "execution_count": 5,
   "metadata": {},
   "outputs": [],
   "source": [
    "x=8"
   ]
  },
  {
   "cell_type": "code",
   "execution_count": 6,
   "metadata": {},
   "outputs": [
    {
     "data": {
      "text/plain": [
       "4"
      ]
     },
     "execution_count": 6,
     "metadata": {},
     "output_type": "execute_result"
    }
   ],
   "source": [
    "x.bit_length()"
   ]
  },
  {
   "cell_type": "markdown",
   "metadata": {},
   "source": [
    "# List"
   ]
  },
  {
   "cell_type": "code",
   "execution_count": 7,
   "metadata": {},
   "outputs": [],
   "source": [
    "x=[1,2,'Hello']"
   ]
  },
  {
   "cell_type": "code",
   "execution_count": 8,
   "metadata": {},
   "outputs": [
    {
     "data": {
      "text/plain": [
       "list"
      ]
     },
     "execution_count": 8,
     "metadata": {},
     "output_type": "execute_result"
    }
   ],
   "source": [
    "type(x)"
   ]
  },
  {
   "cell_type": "code",
   "execution_count": 9,
   "metadata": {},
   "outputs": [],
   "source": [
    "x.append('World!')"
   ]
  },
  {
   "cell_type": "code",
   "execution_count": 10,
   "metadata": {},
   "outputs": [
    {
     "data": {
      "text/plain": [
       "[1, 2, 'Hello', 'World!']"
      ]
     },
     "execution_count": 10,
     "metadata": {},
     "output_type": "execute_result"
    }
   ],
   "source": [
    "x"
   ]
  },
  {
   "cell_type": "code",
   "execution_count": 11,
   "metadata": {},
   "outputs": [
    {
     "data": {
      "text/plain": [
       "'World!'"
      ]
     },
     "execution_count": 11,
     "metadata": {},
     "output_type": "execute_result"
    }
   ],
   "source": [
    "x.pop()"
   ]
  },
  {
   "cell_type": "code",
   "execution_count": 12,
   "metadata": {},
   "outputs": [
    {
     "data": {
      "text/plain": [
       "[1, 2, 'Hello']"
      ]
     },
     "execution_count": 12,
     "metadata": {},
     "output_type": "execute_result"
    }
   ],
   "source": [
    "x"
   ]
  },
  {
   "cell_type": "code",
   "execution_count": 13,
   "metadata": {},
   "outputs": [
    {
     "data": {
      "text/plain": [
       "2"
      ]
     },
     "execution_count": 13,
     "metadata": {},
     "output_type": "execute_result"
    }
   ],
   "source": [
    "x.pop(1)"
   ]
  },
  {
   "cell_type": "code",
   "execution_count": 14,
   "metadata": {},
   "outputs": [
    {
     "data": {
      "text/plain": [
       "[1, 'Hello']"
      ]
     },
     "execution_count": 14,
     "metadata": {},
     "output_type": "execute_result"
    }
   ],
   "source": [
    "x"
   ]
  },
  {
   "cell_type": "code",
   "execution_count": 15,
   "metadata": {},
   "outputs": [],
   "source": [
    "x.append(7)"
   ]
  },
  {
   "cell_type": "code",
   "execution_count": 16,
   "metadata": {},
   "outputs": [
    {
     "data": {
      "text/plain": [
       "[1, 'Hello', 7]"
      ]
     },
     "execution_count": 16,
     "metadata": {},
     "output_type": "execute_result"
    }
   ],
   "source": [
    "x"
   ]
  },
  {
   "cell_type": "code",
   "execution_count": 19,
   "metadata": {},
   "outputs": [],
   "source": [
    "x[2]=9"
   ]
  },
  {
   "cell_type": "code",
   "execution_count": 20,
   "metadata": {},
   "outputs": [
    {
     "data": {
      "text/plain": [
       "[1, 'Hello', 9]"
      ]
     },
     "execution_count": 20,
     "metadata": {},
     "output_type": "execute_result"
    }
   ],
   "source": [
    "x"
   ]
  },
  {
   "cell_type": "markdown",
   "metadata": {},
   "source": [
    "# Dictionary"
   ]
  },
  {
   "cell_type": "code",
   "execution_count": 21,
   "metadata": {},
   "outputs": [],
   "source": [
    "x={'key':'value'}"
   ]
  },
  {
   "cell_type": "code",
   "execution_count": 22,
   "metadata": {},
   "outputs": [
    {
     "data": {
      "text/plain": [
       "'value'"
      ]
     },
     "execution_count": 22,
     "metadata": {},
     "output_type": "execute_result"
    }
   ],
   "source": [
    "x['key']"
   ]
  },
  {
   "cell_type": "code",
   "execution_count": 23,
   "metadata": {},
   "outputs": [],
   "source": [
    "x={'mod':'024','gop':'025'}"
   ]
  },
  {
   "cell_type": "code",
   "execution_count": 25,
   "metadata": {},
   "outputs": [
    {
     "data": {
      "text/plain": [
       "dict"
      ]
     },
     "execution_count": 25,
     "metadata": {},
     "output_type": "execute_result"
    }
   ],
   "source": [
    "type(x)"
   ]
  },
  {
   "cell_type": "code",
   "execution_count": 26,
   "metadata": {},
   "outputs": [
    {
     "data": {
      "text/plain": [
       "'025'"
      ]
     },
     "execution_count": 26,
     "metadata": {},
     "output_type": "execute_result"
    }
   ],
   "source": [
    "x['gop']"
   ]
  },
  {
   "cell_type": "code",
   "execution_count": 29,
   "metadata": {},
   "outputs": [
    {
     "data": {
      "text/plain": [
       "'025'"
      ]
     },
     "execution_count": 29,
     "metadata": {},
     "output_type": "execute_result"
    }
   ],
   "source": [
    "x.get('gop','not found')"
   ]
  },
  {
   "cell_type": "markdown",
   "metadata": {},
   "source": [
    "# Liitle Red Riding Hood"
   ]
  },
  {
   "cell_type": "code",
   "execution_count": 30,
   "metadata": {},
   "outputs": [],
   "source": [
    "with open('little_red_riding_hood.txt','r') as f:\n",
    "    s=f.read()"
   ]
  },
  {
   "cell_type": "code",
   "execution_count": 32,
   "metadata": {},
   "outputs": [
    {
     "data": {
      "text/plain": [
       "['Once',\n",
       " 'upon',\n",
       " 'a',\n",
       " 'time',\n",
       " 'there',\n",
       " 'lived',\n",
       " 'in',\n",
       " 'a',\n",
       " 'certain',\n",
       " 'village',\n",
       " 'a',\n",
       " 'little',\n",
       " 'country',\n",
       " 'girl,',\n",
       " 'the',\n",
       " 'prettiest',\n",
       " 'creature',\n",
       " 'who',\n",
       " 'was',\n",
       " 'ever',\n",
       " 'seen.',\n",
       " 'Her',\n",
       " 'mother',\n",
       " 'was',\n",
       " 'excessively',\n",
       " 'fond',\n",
       " 'of',\n",
       " 'her;',\n",
       " 'and',\n",
       " 'her',\n",
       " 'grandmother',\n",
       " 'doted',\n",
       " 'on',\n",
       " 'her',\n",
       " 'still',\n",
       " 'more.',\n",
       " 'This',\n",
       " 'good',\n",
       " 'woman',\n",
       " 'had',\n",
       " 'a',\n",
       " 'little',\n",
       " 'red',\n",
       " 'riding',\n",
       " 'hood',\n",
       " 'made',\n",
       " 'for',\n",
       " 'her.',\n",
       " 'It',\n",
       " 'suited',\n",
       " 'the',\n",
       " 'girl',\n",
       " 'so',\n",
       " 'extremely',\n",
       " 'well',\n",
       " 'that',\n",
       " 'everybody',\n",
       " 'called',\n",
       " 'her',\n",
       " 'Little',\n",
       " 'Red',\n",
       " 'Riding',\n",
       " 'Hood.',\n",
       " 'One',\n",
       " 'day',\n",
       " 'her',\n",
       " 'mother,',\n",
       " 'having',\n",
       " 'made',\n",
       " 'some',\n",
       " 'cakes,',\n",
       " 'said',\n",
       " 'to',\n",
       " 'her,',\n",
       " '\"Go,',\n",
       " 'my',\n",
       " 'dear,',\n",
       " 'and',\n",
       " 'see',\n",
       " 'how',\n",
       " 'your',\n",
       " 'grandmother',\n",
       " 'is',\n",
       " 'doing,',\n",
       " 'for',\n",
       " 'I',\n",
       " 'hear',\n",
       " 'she',\n",
       " 'has',\n",
       " 'been',\n",
       " 'very',\n",
       " 'ill.',\n",
       " 'Take',\n",
       " 'her',\n",
       " 'a',\n",
       " 'cake,',\n",
       " 'and',\n",
       " 'this',\n",
       " 'little',\n",
       " 'pot',\n",
       " 'of',\n",
       " 'butter.\"',\n",
       " 'Little',\n",
       " 'Red',\n",
       " 'Riding',\n",
       " 'Hood',\n",
       " 'set',\n",
       " 'out',\n",
       " 'immediately',\n",
       " 'to',\n",
       " 'go',\n",
       " 'to',\n",
       " 'her',\n",
       " 'grandmother,',\n",
       " 'who',\n",
       " 'lived',\n",
       " 'in',\n",
       " 'another',\n",
       " 'village.',\n",
       " 'As',\n",
       " 'she',\n",
       " 'was',\n",
       " 'going',\n",
       " 'through',\n",
       " 'the',\n",
       " 'wood,',\n",
       " 'she',\n",
       " 'met',\n",
       " 'with',\n",
       " 'a',\n",
       " 'wolf,',\n",
       " 'who',\n",
       " 'had',\n",
       " 'a',\n",
       " 'very',\n",
       " 'great',\n",
       " 'mind',\n",
       " 'to',\n",
       " 'eat',\n",
       " 'her',\n",
       " 'up,',\n",
       " 'but',\n",
       " 'he',\n",
       " 'dared',\n",
       " 'not,',\n",
       " 'because',\n",
       " 'of',\n",
       " 'some',\n",
       " 'woodcutters',\n",
       " 'working',\n",
       " 'nearby',\n",
       " 'in',\n",
       " 'the',\n",
       " 'forest.',\n",
       " 'He',\n",
       " 'asked',\n",
       " 'her',\n",
       " 'where',\n",
       " 'she',\n",
       " 'was',\n",
       " 'going.',\n",
       " 'The',\n",
       " 'poor',\n",
       " 'child,',\n",
       " 'who',\n",
       " 'did',\n",
       " 'not',\n",
       " 'know',\n",
       " 'that',\n",
       " 'it',\n",
       " 'was',\n",
       " 'dangerous',\n",
       " 'to',\n",
       " 'stay',\n",
       " 'and',\n",
       " 'talk',\n",
       " 'to',\n",
       " 'a',\n",
       " 'wolf,',\n",
       " 'said',\n",
       " 'to',\n",
       " 'him,',\n",
       " '\"I',\n",
       " 'am',\n",
       " 'going',\n",
       " 'to',\n",
       " 'see',\n",
       " 'my',\n",
       " 'grandmother',\n",
       " 'and',\n",
       " 'carry',\n",
       " 'her',\n",
       " 'a',\n",
       " 'cake',\n",
       " 'and',\n",
       " 'a',\n",
       " 'little',\n",
       " 'pot',\n",
       " 'of',\n",
       " 'butter',\n",
       " 'from',\n",
       " 'my',\n",
       " 'mother.\"',\n",
       " '\"Does',\n",
       " 'she',\n",
       " 'live',\n",
       " 'far',\n",
       " 'off?\"',\n",
       " 'said',\n",
       " 'the',\n",
       " 'wolf',\n",
       " '\"Oh',\n",
       " 'I',\n",
       " 'say,\"',\n",
       " 'answered',\n",
       " 'Little',\n",
       " 'Red',\n",
       " 'Riding',\n",
       " 'Hood;',\n",
       " '\"it',\n",
       " 'is',\n",
       " 'beyond',\n",
       " 'that',\n",
       " 'mill',\n",
       " 'you',\n",
       " 'see',\n",
       " 'there,',\n",
       " 'at',\n",
       " 'the',\n",
       " 'first',\n",
       " 'house',\n",
       " 'in',\n",
       " 'the',\n",
       " 'village.\"',\n",
       " '\"Well,\"',\n",
       " 'said',\n",
       " 'the',\n",
       " 'wolf,',\n",
       " '\"and',\n",
       " \"I'll\",\n",
       " 'go',\n",
       " 'and',\n",
       " 'see',\n",
       " 'her',\n",
       " 'too.',\n",
       " \"I'll\",\n",
       " 'go',\n",
       " 'this',\n",
       " 'way',\n",
       " 'and',\n",
       " 'go',\n",
       " 'you',\n",
       " 'that,',\n",
       " 'and',\n",
       " 'we',\n",
       " 'shall',\n",
       " 'see',\n",
       " 'who',\n",
       " 'will',\n",
       " 'be',\n",
       " 'there',\n",
       " 'first.\"',\n",
       " 'The',\n",
       " 'wolf',\n",
       " 'ran',\n",
       " 'as',\n",
       " 'fast',\n",
       " 'as',\n",
       " 'he',\n",
       " 'could,',\n",
       " 'taking',\n",
       " 'the',\n",
       " 'shortest',\n",
       " 'path,',\n",
       " 'and',\n",
       " 'the',\n",
       " 'little',\n",
       " 'girl',\n",
       " 'took',\n",
       " 'a',\n",
       " 'roundabout',\n",
       " 'way,',\n",
       " 'entertaining',\n",
       " 'herself',\n",
       " 'by',\n",
       " 'gathering',\n",
       " 'nuts,',\n",
       " 'running',\n",
       " 'after',\n",
       " 'butterflies,',\n",
       " 'and',\n",
       " 'gathering',\n",
       " 'bouquets',\n",
       " 'of',\n",
       " 'little',\n",
       " 'flowers.',\n",
       " 'It',\n",
       " 'was',\n",
       " 'not',\n",
       " 'long',\n",
       " 'before',\n",
       " 'the',\n",
       " 'wolf',\n",
       " 'arrived',\n",
       " 'at',\n",
       " 'the',\n",
       " 'old',\n",
       " \"woman's\",\n",
       " 'house.',\n",
       " 'He',\n",
       " 'knocked',\n",
       " 'at',\n",
       " 'the',\n",
       " 'door:',\n",
       " 'tap,',\n",
       " 'tap.',\n",
       " '\"Who\\'s',\n",
       " 'there?\"',\n",
       " '\"Your',\n",
       " 'grandchild,',\n",
       " 'Little',\n",
       " 'Red',\n",
       " 'Riding',\n",
       " 'Hood,\"',\n",
       " 'replied',\n",
       " 'the',\n",
       " 'wolf,',\n",
       " 'counterfeiting',\n",
       " 'her',\n",
       " 'voice;',\n",
       " '\"who',\n",
       " 'has',\n",
       " 'brought',\n",
       " 'you',\n",
       " 'a',\n",
       " 'cake',\n",
       " 'and',\n",
       " 'a',\n",
       " 'little',\n",
       " 'pot',\n",
       " 'of',\n",
       " 'butter',\n",
       " 'sent',\n",
       " 'you',\n",
       " 'by',\n",
       " 'mother.\"',\n",
       " 'The',\n",
       " 'good',\n",
       " 'grandmother,',\n",
       " 'who',\n",
       " 'was',\n",
       " 'in',\n",
       " 'bed,',\n",
       " 'because',\n",
       " 'she',\n",
       " 'was',\n",
       " 'somewhat',\n",
       " 'ill,',\n",
       " 'cried',\n",
       " 'out,',\n",
       " '\"Pull',\n",
       " 'the',\n",
       " 'bobbin,',\n",
       " 'and',\n",
       " 'the',\n",
       " 'latch',\n",
       " 'will',\n",
       " 'go',\n",
       " 'up.\"',\n",
       " 'The',\n",
       " 'wolf',\n",
       " 'pulled',\n",
       " 'the',\n",
       " 'bobbin,',\n",
       " 'and',\n",
       " 'the',\n",
       " 'door',\n",
       " 'opened,',\n",
       " 'and',\n",
       " 'then',\n",
       " 'he',\n",
       " 'immediately',\n",
       " 'fell',\n",
       " 'upon',\n",
       " 'the',\n",
       " 'good',\n",
       " 'woman',\n",
       " 'and',\n",
       " 'ate',\n",
       " 'her',\n",
       " 'up',\n",
       " 'in',\n",
       " 'a',\n",
       " 'moment,',\n",
       " 'for',\n",
       " 'it',\n",
       " 'been',\n",
       " 'more',\n",
       " 'than',\n",
       " 'three',\n",
       " 'days',\n",
       " 'since',\n",
       " 'he',\n",
       " 'had',\n",
       " 'eaten.',\n",
       " 'He',\n",
       " 'then',\n",
       " 'shut',\n",
       " 'the',\n",
       " 'door',\n",
       " 'and',\n",
       " 'got',\n",
       " 'into',\n",
       " 'the',\n",
       " \"grandmother's\",\n",
       " 'bed,',\n",
       " 'expecting',\n",
       " 'Little',\n",
       " 'Red',\n",
       " 'Riding',\n",
       " 'Hood,',\n",
       " 'who',\n",
       " 'came',\n",
       " 'some',\n",
       " 'time',\n",
       " 'afterwards',\n",
       " 'and',\n",
       " 'knocked',\n",
       " 'at',\n",
       " 'the',\n",
       " 'door:',\n",
       " 'tap,',\n",
       " 'tap.',\n",
       " '\"Who\\'s',\n",
       " 'there?\"',\n",
       " 'Little',\n",
       " 'Red',\n",
       " 'Riding',\n",
       " 'Hood,',\n",
       " 'hearing',\n",
       " 'the',\n",
       " 'big',\n",
       " 'voice',\n",
       " 'of',\n",
       " 'the',\n",
       " 'wolf,',\n",
       " 'was',\n",
       " 'at',\n",
       " 'first',\n",
       " 'afraid;',\n",
       " 'but',\n",
       " 'believing',\n",
       " 'her',\n",
       " 'grandmother',\n",
       " 'had',\n",
       " 'a',\n",
       " 'cold',\n",
       " 'and',\n",
       " 'was',\n",
       " 'hoarse,',\n",
       " 'answered,',\n",
       " '\"It',\n",
       " 'is',\n",
       " 'your',\n",
       " 'grandchild',\n",
       " 'Little',\n",
       " 'Red',\n",
       " 'Riding',\n",
       " 'Hood,',\n",
       " 'who',\n",
       " 'has',\n",
       " 'brought',\n",
       " 'you',\n",
       " 'a',\n",
       " 'cake',\n",
       " 'and',\n",
       " 'a',\n",
       " 'little',\n",
       " 'pot',\n",
       " 'of',\n",
       " 'butter',\n",
       " 'mother',\n",
       " 'sends',\n",
       " 'you.\"',\n",
       " 'The',\n",
       " 'wolf',\n",
       " 'cried',\n",
       " 'out',\n",
       " 'to',\n",
       " 'her,',\n",
       " 'softening',\n",
       " 'his',\n",
       " 'voice',\n",
       " 'as',\n",
       " 'much',\n",
       " 'as',\n",
       " 'he',\n",
       " 'could,',\n",
       " '\"Pull',\n",
       " 'the',\n",
       " 'bobbin,',\n",
       " 'and',\n",
       " 'the',\n",
       " 'latch',\n",
       " 'will',\n",
       " 'go',\n",
       " 'up.\"',\n",
       " 'Little',\n",
       " 'Red',\n",
       " 'Riding',\n",
       " 'Hood',\n",
       " 'pulled',\n",
       " 'the',\n",
       " 'bobbin,',\n",
       " 'and',\n",
       " 'the',\n",
       " 'door',\n",
       " 'opened.',\n",
       " 'The',\n",
       " 'wolf,',\n",
       " 'seeing',\n",
       " 'her',\n",
       " 'come',\n",
       " 'in,',\n",
       " 'said',\n",
       " 'to',\n",
       " 'her,',\n",
       " 'hiding',\n",
       " 'himself',\n",
       " 'under',\n",
       " 'the',\n",
       " 'bedclothes,',\n",
       " '\"Put',\n",
       " 'the',\n",
       " 'cake',\n",
       " 'and',\n",
       " 'the',\n",
       " 'little',\n",
       " 'pot',\n",
       " 'of',\n",
       " 'butter',\n",
       " 'upon',\n",
       " 'the',\n",
       " 'stool,',\n",
       " 'and',\n",
       " 'come',\n",
       " 'get',\n",
       " 'into',\n",
       " 'bed',\n",
       " 'with',\n",
       " 'me.\"',\n",
       " 'Little',\n",
       " 'Red',\n",
       " 'Riding',\n",
       " 'Hood',\n",
       " 'took',\n",
       " 'off',\n",
       " 'her',\n",
       " 'clothes',\n",
       " 'and',\n",
       " 'got',\n",
       " 'into',\n",
       " 'bed.',\n",
       " 'She',\n",
       " 'was',\n",
       " 'greatly',\n",
       " 'amazed',\n",
       " 'to',\n",
       " 'see',\n",
       " 'how',\n",
       " 'her',\n",
       " 'grandmother',\n",
       " 'looked',\n",
       " 'in',\n",
       " 'her',\n",
       " 'nightclothes,',\n",
       " 'and',\n",
       " 'said',\n",
       " 'to',\n",
       " 'her,',\n",
       " '\"Grandmother,',\n",
       " 'what',\n",
       " 'big',\n",
       " 'arms',\n",
       " 'you',\n",
       " 'have!\"',\n",
       " '\"All',\n",
       " 'the',\n",
       " 'better',\n",
       " 'to',\n",
       " 'hug',\n",
       " 'you',\n",
       " 'with,',\n",
       " 'my',\n",
       " 'dear.\"',\n",
       " '\"Grandmother,',\n",
       " 'what',\n",
       " 'big',\n",
       " 'legs',\n",
       " 'you',\n",
       " 'have!\"',\n",
       " '\"All',\n",
       " 'the',\n",
       " 'better',\n",
       " 'to',\n",
       " 'run',\n",
       " 'with,',\n",
       " 'my',\n",
       " 'child.\"',\n",
       " '\"Grandmother,',\n",
       " 'what',\n",
       " 'big',\n",
       " 'ears',\n",
       " 'you',\n",
       " 'have!\"',\n",
       " '\"All',\n",
       " 'the',\n",
       " 'better',\n",
       " 'to',\n",
       " 'hear',\n",
       " 'with,',\n",
       " 'my',\n",
       " 'child.\"',\n",
       " '\"Grandmother,',\n",
       " 'what',\n",
       " 'big',\n",
       " 'eyes',\n",
       " 'you',\n",
       " 'have!\"',\n",
       " '\"All',\n",
       " 'the',\n",
       " 'better',\n",
       " 'to',\n",
       " 'see',\n",
       " 'with,',\n",
       " 'my',\n",
       " 'child.\"',\n",
       " '\"Grandmother,',\n",
       " 'what',\n",
       " 'big',\n",
       " 'teeth',\n",
       " 'you',\n",
       " 'have',\n",
       " 'got!\"',\n",
       " '\"All',\n",
       " 'the',\n",
       " 'better',\n",
       " 'to',\n",
       " 'eat',\n",
       " 'you',\n",
       " 'up',\n",
       " 'with.\"',\n",
       " 'And,',\n",
       " 'saying',\n",
       " 'these',\n",
       " 'words,',\n",
       " 'this',\n",
       " 'wicked',\n",
       " 'wolf',\n",
       " 'fell',\n",
       " 'upon',\n",
       " 'Little',\n",
       " 'Red',\n",
       " 'Riding',\n",
       " 'Hood,',\n",
       " 'and',\n",
       " 'ate',\n",
       " 'her',\n",
       " 'all',\n",
       " 'up.',\n",
       " 'Moral:',\n",
       " 'Children,',\n",
       " 'especially',\n",
       " 'attractive,',\n",
       " 'well',\n",
       " 'bred',\n",
       " 'young',\n",
       " 'ladies,',\n",
       " 'should',\n",
       " 'never',\n",
       " 'talk',\n",
       " 'to',\n",
       " 'strangers,',\n",
       " 'for',\n",
       " 'if',\n",
       " 'they',\n",
       " 'should',\n",
       " 'do',\n",
       " 'so,',\n",
       " 'they',\n",
       " 'may',\n",
       " 'well',\n",
       " 'provide',\n",
       " 'dinner',\n",
       " 'for',\n",
       " 'a',\n",
       " 'wolf.',\n",
       " 'I',\n",
       " 'say',\n",
       " '\"wolf,\"',\n",
       " 'but',\n",
       " 'there',\n",
       " 'are',\n",
       " 'various',\n",
       " 'kinds',\n",
       " 'of',\n",
       " 'wolves.',\n",
       " 'There',\n",
       " 'are',\n",
       " 'also',\n",
       " 'those',\n",
       " 'who',\n",
       " 'are',\n",
       " 'charming,',\n",
       " 'quiet,',\n",
       " 'polite,',\n",
       " 'unassuming,',\n",
       " 'complacent,',\n",
       " 'and',\n",
       " 'sweet,',\n",
       " 'who',\n",
       " 'pursue',\n",
       " 'young',\n",
       " 'women',\n",
       " 'at',\n",
       " 'home',\n",
       " 'and',\n",
       " 'in',\n",
       " 'the',\n",
       " 'streets.',\n",
       " 'And',\n",
       " 'unfortunately,',\n",
       " 'it',\n",
       " 'is',\n",
       " 'these',\n",
       " 'gentle',\n",
       " 'wolves',\n",
       " 'who',\n",
       " 'are',\n",
       " 'the',\n",
       " 'most',\n",
       " 'dangerous',\n",
       " 'ones',\n",
       " 'of',\n",
       " 'all.']"
      ]
     },
     "execution_count": 32,
     "metadata": {},
     "output_type": "execute_result"
    }
   ],
   "source": [
    "s.split()"
   ]
  },
  {
   "cell_type": "code",
   "execution_count": 34,
   "metadata": {},
   "outputs": [],
   "source": [
    "d={}\n",
    "for i in s.split():\n",
    "    d[i]=d.get(i,0)+1"
   ]
  },
  {
   "cell_type": "code",
   "execution_count": 36,
   "metadata": {},
   "outputs": [],
   "source": [
    "import operator\n",
    "sorted_d = sorted(d.items(), key=operator.itemgetter(1))"
   ]
  },
  {
   "cell_type": "code",
   "execution_count": 64,
   "metadata": {},
   "outputs": [
    {
     "data": {
      "text/plain": [
       "[('the', 39),\n",
       " ('and', 29),\n",
       " ('to', 18),\n",
       " ('her', 18),\n",
       " ('a', 18),\n",
       " ('you', 12),\n",
       " ('of', 11),\n",
       " ('was', 11),\n",
       " ('who', 11)]"
      ]
     },
     "execution_count": 64,
     "metadata": {},
     "output_type": "execute_result"
    }
   ],
   "source": [
    "sorted_d[:-10:-1]"
   ]
  },
  {
   "cell_type": "code",
   "execution_count": 38,
   "metadata": {},
   "outputs": [],
   "source": [
    "x=[0,1,2,3,4,5,6,7,8,9]"
   ]
  },
  {
   "cell_type": "code",
   "execution_count": 61,
   "metadata": {},
   "outputs": [
    {
     "data": {
      "text/plain": [
       "[1, 4, 7]"
      ]
     },
     "execution_count": 61,
     "metadata": {},
     "output_type": "execute_result"
    }
   ],
   "source": [
    "x[1:8:3]"
   ]
  },
  {
   "cell_type": "code",
   "execution_count": null,
   "metadata": {},
   "outputs": [],
   "source": []
  },
  {
   "cell_type": "code",
   "execution_count": null,
   "metadata": {},
   "outputs": [],
   "source": []
  }
 ],
 "metadata": {
  "kernelspec": {
   "display_name": "Python 3",
   "language": "python",
   "name": "python3"
  },
  "language_info": {
   "codemirror_mode": {
    "name": "ipython",
    "version": 3
   },
   "file_extension": ".py",
   "mimetype": "text/x-python",
   "name": "python",
   "nbconvert_exporter": "python",
   "pygments_lexer": "ipython3",
   "version": "3.6.6"
  }
 },
 "nbformat": 4,
 "nbformat_minor": 2
}
